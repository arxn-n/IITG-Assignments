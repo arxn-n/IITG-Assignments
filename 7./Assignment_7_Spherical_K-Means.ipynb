{
 "cells": [
  {
   "cell_type": "code",
   "execution_count": 2,
   "metadata": {},
   "outputs": [],
   "source": [
    "#Assignment_7"
   ]
  },
  {
   "cell_type": "code",
   "execution_count": 3,
   "metadata": {},
   "outputs": [
    {
     "data": {
      "text/plain": [
       "'\\n\\nGenerate a dummy dataset using Scikit-Learn having high dimensionality\\nand total 4 classes. For this dataset, first implement K-Means clustering \\nand then use the clusters for classification purpose. Now using the same dataset,\\nimplement spherical clustering and then check accuracy for classification. \\nNotice the change in accuracy. You may also plot the obtained clusters from both \\nthe methods using t-SNE plots or by projecting data into two dimensions using PCA.\\n\\n'"
      ]
     },
     "execution_count": 3,
     "metadata": {},
     "output_type": "execute_result"
    }
   ],
   "source": [
    "#Question\n",
    "\n",
    "'''\n",
    "\n",
    "Generate a dummy dataset using Scikit-Learn having high dimensionality\n",
    "and total 4 classes. For this dataset, first implement K-Means clustering \n",
    "and then use the clusters for classification purpose. Now using the same dataset,\n",
    "implement spherical clustering and then check accuracy for classification. \n",
    "Notice the change in accuracy. You may also plot the obtained clusters from both \n",
    "the methods using t-SNE plots or by projecting data into two dimensions using PCA.\n",
    "\n",
    "'''"
   ]
  },
  {
   "cell_type": "code",
   "execution_count": 5,
   "metadata": {},
   "outputs": [],
   "source": [
    "import seaborn as sns\n",
    "from sklearn.datasets import make_classification\n",
    "from sklearn.cluster import KMeans\n",
    "from sklearn.model_selection import train_test_split\n",
    "from soyclustering import SphericalKMeans\n",
    "from scipy.sparse import csr_matrix\n",
    "from sklearn.metrics import accuracy_score\n",
    "from sklearn.manifold import TSNE\n",
    "import pandas as pd\n",
    "import numpy as np"
   ]
  },
  {
   "cell_type": "code",
   "execution_count": 6,
   "metadata": {},
   "outputs": [],
   "source": [
    "#default features=20\n",
    "X, y = make_classification(n_samples=1000, n_classes=4, n_clusters_per_class=1, random_state=10)"
   ]
  },
  {
   "cell_type": "code",
   "execution_count": 7,
   "metadata": {},
   "outputs": [
    {
     "data": {
      "text/plain": [
       "(1000, 20)"
      ]
     },
     "execution_count": 7,
     "metadata": {},
     "output_type": "execute_result"
    }
   ],
   "source": [
    "X.shape"
   ]
  },
  {
   "cell_type": "code",
   "execution_count": 8,
   "metadata": {},
   "outputs": [
    {
     "data": {
      "text/plain": [
       "(1000,)"
      ]
     },
     "execution_count": 8,
     "metadata": {},
     "output_type": "execute_result"
    }
   ],
   "source": [
    "y.shape"
   ]
  },
  {
   "cell_type": "code",
   "execution_count": 9,
   "metadata": {},
   "outputs": [],
   "source": [
    "X_train, X_test, y_train, y_test = train_test_split(X, y, random_state=1)"
   ]
  },
  {
   "cell_type": "code",
   "execution_count": 10,
   "metadata": {},
   "outputs": [
    {
     "data": {
      "text/plain": [
       "(750, 20)"
      ]
     },
     "execution_count": 10,
     "metadata": {},
     "output_type": "execute_result"
    }
   ],
   "source": [
    "X_train.shape"
   ]
  },
  {
   "cell_type": "code",
   "execution_count": 11,
   "metadata": {},
   "outputs": [
    {
     "name": "stdout",
     "output_type": "stream",
     "text": [
      "[t-SNE] Computing 121 nearest neighbors...\n",
      "[t-SNE] Indexed 750 samples in 0.001s...\n",
      "[t-SNE] Computed neighbors for 750 samples in 0.038s...\n",
      "[t-SNE] Computed conditional probabilities for sample 750 / 750\n",
      "[t-SNE] Mean sigma: 1.700601\n",
      "[t-SNE] KL divergence after 250 iterations with early exaggeration: 76.687149\n",
      "[t-SNE] KL divergence after 300 iterations: 1.950066\n",
      "[t-SNE] Computing 121 nearest neighbors...\n",
      "[t-SNE] Indexed 250 samples in 0.000s...\n",
      "[t-SNE] Computed neighbors for 250 samples in 0.007s...\n",
      "[t-SNE] Computed conditional probabilities for sample 250 / 250\n",
      "[t-SNE] Mean sigma: 1.995815\n",
      "[t-SNE] KL divergence after 250 iterations with early exaggeration: 68.622963\n",
      "[t-SNE] KL divergence after 300 iterations: 1.460441\n",
      "(750, 2)\n"
     ]
    }
   ],
   "source": [
    "X_test.shape\n",
    "tsne = TSNE(n_components=2, verbose=1, perplexity=40, n_iter=300)\n",
    "\n",
    "X_train = tsne.fit_transform(X_train)\n",
    "X_test = tsne.fit_transform(X_test)\n",
    "\n",
    "print(X_train.shape)"
   ]
  },
  {
   "cell_type": "code",
   "execution_count": 12,
   "metadata": {},
   "outputs": [],
   "source": [
    "kmeans = KMeans(n_clusters=4).fit(X_train)"
   ]
  },
  {
   "cell_type": "code",
   "execution_count": 13,
   "metadata": {},
   "outputs": [
    {
     "data": {
      "text/plain": [
       "(4, 2)"
      ]
     },
     "execution_count": 13,
     "metadata": {},
     "output_type": "execute_result"
    }
   ],
   "source": [
    "kmeans.cluster_centers_.shape"
   ]
  },
  {
   "cell_type": "code",
   "execution_count": 14,
   "metadata": {},
   "outputs": [
    {
     "data": {
      "text/plain": [
       "(750,)"
      ]
     },
     "execution_count": 14,
     "metadata": {},
     "output_type": "execute_result"
    }
   ],
   "source": [
    "kmeans.labels_.shape"
   ]
  },
  {
   "cell_type": "code",
   "execution_count": 15,
   "metadata": {},
   "outputs": [
    {
     "data": {
      "text/plain": [
       "(4, 2)"
      ]
     },
     "execution_count": 15,
     "metadata": {},
     "output_type": "execute_result"
    }
   ],
   "source": [
    "kmeans.cluster_centers_.shape"
   ]
  },
  {
   "cell_type": "code",
   "execution_count": 16,
   "metadata": {},
   "outputs": [
    {
     "data": {
      "text/plain": [
       "array([3, 2, 3, 2, 3, 0, 0, 0, 3, 3, 0, 3, 2, 0, 2, 2, 3, 3, 2, 1, 2, 0,\n",
       "       2, 1, 2, 0, 1, 2, 2, 2, 2, 0, 3, 0, 0, 3, 3, 0, 0, 0, 1, 1, 3, 2,\n",
       "       0, 0, 3, 2, 3, 2, 2, 0, 0, 2, 2, 3, 2, 2, 3, 2, 2, 3, 0, 2, 3, 1,\n",
       "       3, 0, 1, 2, 0, 3, 2, 3, 2, 3, 3, 2, 2, 0, 1, 2, 0, 1, 1, 2, 0, 2,\n",
       "       0, 0, 0, 3, 2, 2, 2, 2, 2, 3, 3, 2, 3, 2, 0, 2, 3, 3, 1, 2, 2, 2,\n",
       "       1, 3, 0, 0, 2, 2, 3, 3, 0, 0, 2, 2, 0, 1, 3, 3, 0, 2, 2, 2, 2, 3,\n",
       "       1, 0, 0, 1, 2, 3, 3, 3, 1, 2, 2, 0, 2, 0, 3, 2, 2, 2, 2, 2, 2, 2,\n",
       "       2, 2, 0, 3, 2, 3, 2, 2, 3, 3, 2, 1, 3, 1, 3, 3, 2, 2, 2, 0, 3, 1,\n",
       "       1, 0, 0, 1, 2, 2, 3, 0, 0, 3, 3, 3, 3, 2, 0, 1, 0, 3, 0, 3, 3, 2,\n",
       "       3, 3, 3, 3, 3, 2, 2, 2, 1, 1, 3, 2, 2, 3, 3, 2, 1, 2, 0, 3, 1, 0,\n",
       "       3, 0, 1, 3, 2, 0, 3, 0, 2, 3, 2, 0, 1, 2, 0, 0, 1, 3, 2, 1, 1, 2,\n",
       "       3, 2, 3, 1, 0, 3, 1, 2], dtype=int32)"
      ]
     },
     "execution_count": 16,
     "metadata": {},
     "output_type": "execute_result"
    }
   ],
   "source": [
    "y_pred = kmeans.predict(X_test)\n",
    "y_pred"
   ]
  },
  {
   "cell_type": "code",
   "execution_count": 17,
   "metadata": {},
   "outputs": [],
   "source": [
    "acc = accuracy_score(y_pred, y_test)"
   ]
  },
  {
   "cell_type": "code",
   "execution_count": 18,
   "metadata": {},
   "outputs": [
    {
     "name": "stdout",
     "output_type": "stream",
     "text": [
      "0.156\n"
     ]
    },
    {
     "data": {
      "text/plain": [
       "array([[-3.5886788 , -4.8660493 ],\n",
       "       [-0.46757716,  0.82501954],\n",
       "       [ 1.8557918 , -3.9246006 ],\n",
       "       [ 2.9002721 ,  1.2383687 ],\n",
       "       [ 1.7198299 , -4.8173423 ]], dtype=float32)"
      ]
     },
     "execution_count": 18,
     "metadata": {},
     "output_type": "execute_result"
    }
   ],
   "source": [
    "print(acc)\n",
    "\n",
    "X_test[:5]"
   ]
  },
  {
   "cell_type": "code",
   "execution_count": 19,
   "metadata": {},
   "outputs": [
    {
     "data": {
      "text/plain": [
       "array([[ -4.2210455 ,   5.2375865 ],\n",
       "       [ -5.3940454 ,   2.511617  ],\n",
       "       [ -5.0875616 ,   0.7974411 ],\n",
       "       [ -3.5841188 ,   1.8875548 ],\n",
       "       [ -5.151289  ,   9.053758  ],\n",
       "       [ -5.663695  ,   7.305885  ],\n",
       "       [-11.716963  ,  -2.6413453 ],\n",
       "       [ -7.635912  ,   1.274221  ],\n",
       "       [ -4.6020126 ,   0.10663971],\n",
       "       [ -6.481026  ,   3.8140652 ],\n",
       "       [ -4.7636766 ,   7.426208  ],\n",
       "       [-12.050737  ,  -4.398204  ],\n",
       "       [ -7.454882  ,  -0.60371804],\n",
       "       [ -3.180012  ,   0.4951146 ],\n",
       "       [ -6.445647  ,   2.2007456 ],\n",
       "       [ -3.6763918 ,   1.8537595 ],\n",
       "       [ -3.9971519 ,  -0.14517882],\n",
       "       [ -6.5764155 ,   2.572585  ],\n",
       "       [ -8.113184  ,   5.1563754 ],\n",
       "       [ -7.4098425 ,  -0.42718476],\n",
       "       [ -5.5832186 ,   4.914972  ],\n",
       "       [ -7.298215  ,   2.7650187 ],\n",
       "       [ -9.974233  ,  -1.9420723 ],\n",
       "       [ -5.372882  ,  -0.56124157],\n",
       "       [ -4.4552813 ,   1.7865    ],\n",
       "       [ -9.961409  ,  -2.0551763 ],\n",
       "       [-12.457537  ,   2.105519  ],\n",
       "       [ -3.3664544 ,   1.6654031 ],\n",
       "       [ -7.833486  ,   2.0999725 ],\n",
       "       [ -5.578978  ,  -1.3789301 ],\n",
       "       [ -5.846775  ,  -2.9231336 ],\n",
       "       [ -7.9827933 ,  -2.427145  ],\n",
       "       [-10.806694  ,  -0.25690845],\n",
       "       [ -3.85153   ,   3.346578  ],\n",
       "       [ -4.7599525 ,   3.4675193 ],\n",
       "       [ -9.122591  ,   2.555592  ],\n",
       "       [ -9.092167  ,   4.053872  ],\n",
       "       [ -5.6626415 ,   5.107442  ],\n",
       "       [ -4.5161037 ,   0.5935594 ],\n",
       "       [ -9.151537  ,   1.6655976 ],\n",
       "       [-12.036334  ,  -4.2603154 ],\n",
       "       [-11.62018   ,  -1.4941115 ],\n",
       "       [ -9.019458  ,   4.1907926 ],\n",
       "       [ -8.9334135 ,   0.56193554],\n",
       "       [ -7.471414  ,  -0.36472163],\n",
       "       [ -5.7545924 ,  -1.5207059 ],\n",
       "       [ -5.387992  ,   2.9922652 ],\n",
       "       [ -8.67256   ,   2.7966533 ],\n",
       "       [ -6.6282325 ,   0.6626581 ],\n",
       "       [ -7.907699  ,  -1.79491   ],\n",
       "       [-10.514093  ,   0.9397348 ],\n",
       "       [ -8.189796  ,  -3.265731  ],\n",
       "       [ -6.3635163 ,   1.5987773 ],\n",
       "       [ -4.1786785 ,   4.468399  ],\n",
       "       [ -8.966109  ,   6.3717933 ]], dtype=float32)"
      ]
     },
     "execution_count": 19,
     "metadata": {},
     "output_type": "execute_result"
    }
   ],
   "source": [
    "cluster = [[], [], [], []]\n",
    "for i in range(X_test.shape[0]):\n",
    "    cluster[y_pred[i]].append(X_test[i])\n",
    "cluster1 = np.array(cluster[0])\n",
    "cluster2 = np.array(cluster[1])\n",
    "cluster3 = np.array(cluster[2])\n",
    "cluster4 = np.array(cluster[3])\n",
    "cluster1"
   ]
  },
  {
   "cell_type": "code",
   "execution_count": 20,
   "metadata": {},
   "outputs": [
    {
     "data": {
      "text/plain": [
       "<matplotlib.axes._subplots.AxesSubplot at 0x7fde72273a90>"
      ]
     },
     "execution_count": 20,
     "metadata": {},
     "output_type": "execute_result"
    },
    {
     "data": {
      "image/png": "[encoded data removed]",
      "text/plain": [
       "<Figure size 432x288 with 1 Axes>"
      ]
     },
     "metadata": {
      "needs_background": "light"
     },
     "output_type": "display_data"
    }
   ],
   "source": [
    "df = pd.DataFrame({'X': cluster1[:,0], 'y':cluster1[:,1] })\n",
    "sns.scatterplot(data=df, x=\"X\", y=\"y\")\n",
    "\n",
    "df = pd.DataFrame({'X': cluster2[:,0], 'y':cluster2[:,1] })\n",
    "sns.scatterplot(data=df, x=\"X\", y=\"y\")\n",
    "\n",
    "df = pd.DataFrame({'X': cluster3[:,0], 'y':cluster3[:,1] })\n",
    "sns.scatterplot(data=df, x=\"X\", y=\"y\")\n",
    "\n",
    "df = pd.DataFrame({'X': cluster4[:,0], 'y':cluster4[:,1] })\n",
    "sns.scatterplot(data=df, x=\"X\", y=\"y\")"
   ]
  },
  {
   "cell_type": "code",
   "execution_count": 21,
   "metadata": {},
   "outputs": [
    {
     "name": "stdout",
     "output_type": "stream",
     "text": [
      "[t-SNE] Computing 121 nearest neighbors...\n",
      "[t-SNE] Indexed 750 samples in 0.001s...\n",
      "[t-SNE] Computed neighbors for 750 samples in 0.035s...\n",
      "[t-SNE] Computed conditional probabilities for sample 750 / 750\n",
      "[t-SNE] Mean sigma: 1.700601\n",
      "[t-SNE] KL divergence after 250 iterations with early exaggeration: 75.792328\n",
      "[t-SNE] KL divergence after 300 iterations: 1.962338\n",
      "[t-SNE] Computing 121 nearest neighbors...\n",
      "[t-SNE] Indexed 250 samples in 0.000s...\n",
      "[t-SNE] Computed neighbors for 250 samples in 0.007s...\n",
      "[t-SNE] Computed conditional probabilities for sample 250 / 250\n",
      "[t-SNE] Mean sigma: 1.995815\n",
      "[t-SNE] KL divergence after 250 iterations with early exaggeration: 67.806404\n",
      "[t-SNE] KL divergence after 300 iterations: 1.467597\n",
      "(750, 2)\n"
     ]
    }
   ],
   "source": [
    "X, y = make_classification(n_samples=1000, n_classes=4, n_clusters_per_class=1, random_state=10)\n",
    "X_train, X_test, y_train, y_test = train_test_split(X, y, random_state=1)\n",
    "spherical_kmeans = SphericalKMeans(n_clusters=4)\n",
    "\n",
    "X_train = csr_matrix(tsne.fit_transform(X_train))\n",
    "X_test = csr_matrix(tsne.fit_transform(X_test))\n",
    "\n",
    "print(X_train.shape)\n",
    "\n",
    "skmeans = spherical_kmeans.fit(X_train)\n",
    "sy_pred = skmeans.fit_predict(X_test)"
   ]
  },
  {
   "cell_type": "code",
   "execution_count": 22,
   "metadata": {},
   "outputs": [
    {
     "data": {
      "text/plain": [
       "array([2, 1, 0, 3, 1, 1, 3, 2, 1, 2, 2, 0, 3, 3, 1, 0, 2, 0, 2, 0, 0, 0,\n",
       "       3, 3, 3, 1, 2, 1, 2, 3, 3, 3, 1, 2, 2, 2, 1, 3, 1, 2, 3, 2, 0, 1,\n",
       "       2, 0, 0, 2, 0, 2, 1, 3, 2, 3, 3, 0, 2, 1, 2, 2, 2, 0, 0, 2, 1, 1,\n",
       "       0, 3, 0, 2, 2, 1, 1, 0, 3, 1, 0, 1, 2, 2, 1, 0, 0, 1, 3, 3, 3, 0,\n",
       "       1, 1, 0, 1, 2, 3, 1, 2, 1, 0, 0, 1, 2, 2, 1, 3, 0, 3, 2, 0, 1, 2,\n",
       "       3, 2, 3, 0, 3, 0, 2, 2, 1, 1, 0, 1, 0, 0, 2, 3, 3, 1, 2, 2, 2, 0,\n",
       "       3, 0, 2, 2, 0, 0, 3, 1, 3, 2, 3, 2, 3, 3, 0, 3, 0, 0, 2, 3, 2, 1,\n",
       "       3, 3, 2, 0, 0, 3, 3, 2, 0, 0, 1, 1, 0, 0, 1, 1, 0, 3, 0, 2, 3, 3,\n",
       "       3, 3, 1, 2, 1, 2, 1, 3, 3, 2, 0, 2, 2, 1, 3, 2, 2, 2, 1, 1, 2, 1,\n",
       "       3, 3, 0, 2, 0, 1, 3, 0, 3, 1, 3, 1, 3, 2, 2, 1, 1, 0, 3, 0, 1, 0,\n",
       "       0, 0, 2, 0, 0, 2, 0, 3, 1, 3, 3, 3, 1, 2, 0, 3, 0, 1, 0, 0, 0, 3,\n",
       "       0, 2, 0, 3, 2, 0, 3, 1])"
      ]
     },
     "execution_count": 22,
     "metadata": {},
     "output_type": "execute_result"
    }
   ],
   "source": [
    "sy_pred"
   ]
  },
  {
   "cell_type": "code",
   "execution_count": 23,
   "metadata": {},
   "outputs": [],
   "source": [
    "count = 0\n",
    "totalCorrect = 0"
   ]
  },
  {
   "cell_type": "code",
   "execution_count": 24,
   "metadata": {},
   "outputs": [],
   "source": [
    "for i in range(y_test.shape[0]):\n",
    "    count += 1\n",
    "    if y_test[i] == sy_pred[i]:\n",
    "        totalCorrect += 1"
   ]
  },
  {
   "cell_type": "code",
   "execution_count": 25,
   "metadata": {},
   "outputs": [
    {
     "name": "stdout",
     "output_type": "stream",
     "text": [
      "58 250\n"
     ]
    }
   ],
   "source": [
    "print(totalCorrect, count)\n",
    "sacc = (totalCorrect / count)"
   ]
  },
  {
   "cell_type": "code",
   "execution_count": 26,
   "metadata": {},
   "outputs": [
    {
     "data": {
      "text/plain": [
       "0.232"
      ]
     },
     "execution_count": 26,
     "metadata": {},
     "output_type": "execute_result"
    }
   ],
   "source": [
    "sacc"
   ]
  },
  {
   "cell_type": "code",
   "execution_count": 27,
   "metadata": {},
   "outputs": [
    {
     "data": {
      "text/plain": [
       "(4, 2)"
      ]
     },
     "execution_count": 27,
     "metadata": {},
     "output_type": "execute_result"
    }
   ],
   "source": [
    "skmeans.cluster_centers_.shape"
   ]
  },
  {
   "cell_type": "code",
   "execution_count": 28,
   "metadata": {},
   "outputs": [
    {
     "data": {
      "text/plain": [
       "array([[-4.86043406e+00,  4.46184635e+00],\n",
       "       [-8.02538204e+00,  7.38628340e+00],\n",
       "       [-1.28412466e+01,  1.85338092e+00],\n",
       "       [-4.25634193e+00,  6.97541666e+00],\n",
       "       [-1.00575190e+01, -9.01270926e-01],\n",
       "       [-8.79000473e+00,  1.84186444e-01],\n",
       "       [-1.43645172e+01, -5.82344830e-01],\n",
       "       [-5.08235836e+00,  2.20326090e+00],\n",
       "       [-1.47877944e+00,  8.17541981e+00],\n",
       "       [-6.19207287e+00,  5.81176329e+00],\n",
       "       [-1.24776351e+00, -6.24310225e-03],\n",
       "       [-6.57137728e+00,  3.99744654e+00],\n",
       "       [-3.90156007e+00,  9.64808106e-01],\n",
       "       [-1.87747407e+00,  8.14839935e+00],\n",
       "       [-2.87653422e+00,  2.94314432e+00],\n",
       "       [-2.01410246e+00,  1.45473003e+01],\n",
       "       [-1.49672353e+00,  3.99450040e+00],\n",
       "       [-1.02433376e+01,  5.52020073e+00],\n",
       "       [-6.97442889e-01,  4.93836975e+00],\n",
       "       [-2.98725152e+00,  8.77190208e+00],\n",
       "       [-5.26322556e+00,  3.92630279e-01],\n",
       "       [-1.45723829e+01,  4.26926661e+00],\n",
       "       [-8.70908451e+00, -5.71983814e-01],\n",
       "       [-6.12642241e+00,  3.57189512e+00],\n",
       "       [-2.51644135e+00,  6.43887997e+00],\n",
       "       [-8.55865860e+00,  5.21436214e-01],\n",
       "       [-4.11627531e+00,  9.54125214e+00],\n",
       "       [-9.16732979e+00,  2.16174150e+00],\n",
       "       [-2.70603657e+00,  5.60927629e+00],\n",
       "       [-3.61309814e+00,  9.06561279e+00],\n",
       "       [-7.60438681e+00,  5.31215000e+00],\n",
       "       [-4.15302086e+00,  2.64810145e-01],\n",
       "       [-9.98062074e-01,  3.03387856e+00],\n",
       "       [-4.03912640e+00,  3.30752015e+00],\n",
       "       [-7.38250828e+00,  9.67176628e+00],\n",
       "       [-1.22011843e+01,  3.82294416e+00],\n",
       "       [-8.18585300e+00,  1.22450793e+00],\n",
       "       [-1.10971174e+01,  8.93449903e-01],\n",
       "       [-9.98014736e+00,  7.86312151e+00],\n",
       "       [-9.60164130e-01,  1.19839621e+01],\n",
       "       [-2.66448426e+00,  2.07451773e+00],\n",
       "       [-3.28357029e+00,  5.27978182e+00],\n",
       "       [-3.12769914e+00,  3.65336806e-01],\n",
       "       [-8.46045399e+00,  4.38054132e+00],\n",
       "       [-4.41226339e+00,  3.29440880e+00],\n",
       "       [-1.00306511e+01,  2.18297720e+00],\n",
       "       [-7.96756124e+00,  7.49305439e+00],\n",
       "       [-2.07335138e+00,  2.15226603e+00],\n",
       "       [-5.70867634e+00,  6.90730619e+00],\n",
       "       [-4.47003222e+00,  1.28130455e+01],\n",
       "       [-1.39289141e+00,  6.03064203e+00],\n",
       "       [-2.66936851e+00,  2.89979768e+00],\n",
       "       [-2.54432821e+00,  1.04562788e+01],\n",
       "       [-2.05941057e+00,  3.85678411e+00],\n",
       "       [-1.23374522e+00,  1.22045183e+01],\n",
       "       [-3.85938025e+00,  1.13058150e+00],\n",
       "       [-7.10086489e+00,  1.26375234e+00],\n",
       "       [-1.98169053e+00,  5.25752008e-01],\n",
       "       [-1.71351576e+00,  9.05779362e+00],\n",
       "       [-7.01556587e+00,  2.53043246e+00],\n",
       "       [-6.28807259e+00,  9.41271961e-01],\n",
       "       [-4.78852701e+00, -8.84574875e-02],\n",
       "       [-6.67718267e+00, -2.02996194e-01],\n",
       "       [-5.94654465e+00,  1.15017920e+01],\n",
       "       [-4.88019109e-01,  1.84900808e+00],\n",
       "       [-2.23323464e+00,  1.03622103e+00]], dtype=float32)"
      ]
     },
     "execution_count": 28,
     "metadata": {},
     "output_type": "execute_result"
    }
   ],
   "source": [
    "cluster = [[], [], [], []]\n",
    "for i in range(X_test.shape[0]):\n",
    "    cluster[sy_pred[i]].append(list(X_test[i].toarray()[0]))\n",
    "cluster1 = np.array(cluster[0])\n",
    "cluster2 = np.array(cluster[1])\n",
    "cluster3 = np.array(cluster[2])\n",
    "cluster4 = np.array(cluster[3])\n",
    "cluster1"
   ]
  },
  {
   "cell_type": "code",
   "execution_count": 29,
   "metadata": {},
   "outputs": [
    {
     "data": {
      "text/plain": [
       "<matplotlib.axes._subplots.AxesSubplot at 0x7fde6d6c0d30>"
      ]
     },
     "execution_count": 29,
     "metadata": {},
     "output_type": "execute_result"
    },
    {
     "data": {
      "image/png": "[encoded data removed]",
      "text/plain": [
       "<Figure size 432x288 with 1 Axes>"
      ]
     },
     "metadata": {
      "needs_background": "light"
     },
     "output_type": "display_data"
    }
   ],
   "source": [
    "df = pd.DataFrame({'X': cluster1[:,0], 'y':cluster1[:,1] })\n",
    "sns.scatterplot(data=df, x=\"X\", y=\"y\")\n",
    "\n",
    "df = pd.DataFrame({'X': cluster2[:,0], 'y':cluster2[:,1] })\n",
    "sns.scatterplot(data=df, x=\"X\", y=\"y\")\n",
    "\n",
    "df = pd.DataFrame({'X': cluster3[:,0], 'y':cluster3[:,1] })\n",
    "sns.scatterplot(data=df, x=\"X\", y=\"y\")\n",
    "\n",
    "df = pd.DataFrame({'X': cluster4[:,0], 'y':cluster4[:,1] })\n",
    "sns.scatterplot(data=df, x=\"X\", y=\"y\")"
   ]
  }
 ],
 "metadata": {
  "kernelspec": {
   "display_name": "Python 3",
   "language": "python",
   "name": "python3"
  },
  "language_info": {
   "codemirror_mode": {
    "name": "ipython",
    "version": 3
   },
   "file_extension": ".py",
   "mimetype": "text/x-python",
   "name": "python",
   "nbconvert_exporter": "python",
   "pygments_lexer": "ipython3",
   "version": "3.8.3"
  }
 },
 "nbformat": 4,
 "nbformat_minor": 5
}
